{
 "cells": [
  {
   "cell_type": "markdown",
   "id": "206ada43",
   "metadata": {},
   "source": [
    "# Gibbs Sampler "
   ]
  },
  {
   "cell_type": "raw",
   "id": "91b6fc4b",
   "metadata": {},
   "source": [
    "La idea de este Código es crear un algoritmo que use el Gibbs Sampler y nos permita hacer un análisis estadístico sobre unos datos interesantes. El caso que vamos a estudiar es una señal de estabilidad del laboratorio de Óptica Cuántica de la universidad de los Andes. Vamos a intentar crear un regresión sobre los datos con el Gibbs Sampler."
   ]
  },
  {
   "cell_type": "code",
   "execution_count": 2,
   "id": "2717cc4a",
   "metadata": {},
   "outputs": [],
   "source": [
    "import numpy as np\n",
    "import scipy as sc\n",
    "from scipy.stats import invgamma,invwishart, norm,multivariate_normal\n",
    "import matplotlib.pyplot as plt"
   ]
  },
  {
   "cell_type": "code",
   "execution_count": 251,
   "id": "742aeeca",
   "metadata": {},
   "outputs": [
    {
     "data": {
      "text/plain": [
       "5000"
      ]
     },
     "execution_count": 251,
     "metadata": {},
     "output_type": "execute_result"
    }
   ],
   "source": [
    "data=pd.read_excel(\"29.08.2022.xlsx\")[0:5000] #Leemos los datos y escogemos un rango porque el numero de datos es muy grande.\n",
    "len(data)"
   ]
  },
  {
   "cell_type": "code",
   "execution_count": 252,
   "id": "cb64fbc8",
   "metadata": {},
   "outputs": [
    {
     "data": {
      "text/html": [
       "<div>\n",
       "<style scoped>\n",
       "    .dataframe tbody tr th:only-of-type {\n",
       "        vertical-align: middle;\n",
       "    }\n",
       "\n",
       "    .dataframe tbody tr th {\n",
       "        vertical-align: top;\n",
       "    }\n",
       "\n",
       "    .dataframe thead th {\n",
       "        text-align: right;\n",
       "    }\n",
       "</style>\n",
       "<table border=\"1\" class=\"dataframe\">\n",
       "  <thead>\n",
       "    <tr style=\"text-align: right;\">\n",
       "      <th></th>\n",
       "      <th>Time  [ms]</th>\n",
       "      <th>Signal 1  Wavelength, vac.  [nm]</th>\n",
       "    </tr>\n",
       "  </thead>\n",
       "  <tbody>\n",
       "    <tr>\n",
       "      <th>0</th>\n",
       "      <td>20</td>\n",
       "      <td>852.35622</td>\n",
       "    </tr>\n",
       "    <tr>\n",
       "      <th>1</th>\n",
       "      <td>40</td>\n",
       "      <td>852.35622</td>\n",
       "    </tr>\n",
       "    <tr>\n",
       "      <th>2</th>\n",
       "      <td>60</td>\n",
       "      <td>852.35622</td>\n",
       "    </tr>\n",
       "    <tr>\n",
       "      <th>3</th>\n",
       "      <td>80</td>\n",
       "      <td>852.35622</td>\n",
       "    </tr>\n",
       "    <tr>\n",
       "      <th>4</th>\n",
       "      <td>100</td>\n",
       "      <td>852.35622</td>\n",
       "    </tr>\n",
       "    <tr>\n",
       "      <th>...</th>\n",
       "      <td>...</td>\n",
       "      <td>...</td>\n",
       "    </tr>\n",
       "    <tr>\n",
       "      <th>4995</th>\n",
       "      <td>100150</td>\n",
       "      <td>852.35625</td>\n",
       "    </tr>\n",
       "    <tr>\n",
       "      <th>4996</th>\n",
       "      <td>100169</td>\n",
       "      <td>852.35625</td>\n",
       "    </tr>\n",
       "    <tr>\n",
       "      <th>4997</th>\n",
       "      <td>100190</td>\n",
       "      <td>852.35625</td>\n",
       "    </tr>\n",
       "    <tr>\n",
       "      <th>4998</th>\n",
       "      <td>100210</td>\n",
       "      <td>852.35625</td>\n",
       "    </tr>\n",
       "    <tr>\n",
       "      <th>4999</th>\n",
       "      <td>100230</td>\n",
       "      <td>852.35625</td>\n",
       "    </tr>\n",
       "  </tbody>\n",
       "</table>\n",
       "<p>5000 rows × 2 columns</p>\n",
       "</div>"
      ],
      "text/plain": [
       "      Time  [ms]  Signal 1  Wavelength, vac.  [nm]\n",
       "0             20                         852.35622\n",
       "1             40                         852.35622\n",
       "2             60                         852.35622\n",
       "3             80                         852.35622\n",
       "4            100                         852.35622\n",
       "...          ...                               ...\n",
       "4995      100150                         852.35625\n",
       "4996      100169                         852.35625\n",
       "4997      100190                         852.35625\n",
       "4998      100210                         852.35625\n",
       "4999      100230                         852.35625\n",
       "\n",
       "[5000 rows x 2 columns]"
      ]
     },
     "execution_count": 252,
     "metadata": {},
     "output_type": "execute_result"
    }
   ],
   "source": [
    "data"
   ]
  },
  {
   "cell_type": "code",
   "execution_count": 253,
   "id": "bcf4a599",
   "metadata": {
    "scrolled": true
   },
   "outputs": [
    {
     "data": {
      "text/plain": [
       "[<matplotlib.lines.Line2D at 0x29be6230610>]"
      ]
     },
     "execution_count": 253,
     "metadata": {},
     "output_type": "execute_result"
    },
    {
     "data": {
      "image/png": "[encoded data removed]",
      "text/plain": [
       "<Figure size 432x288 with 1 Axes>"
      ]
     },
     "metadata": {
      "needs_background": "light"
     },
     "output_type": "display_data"
    }
   ],
   "source": [
    "llaves=data.keys()\n",
    "x=(data[llaves[0]])\n",
    "y=(data[llaves[1]])\n",
    "plt.plot(x,y) # Mostramos un imagen de como se ve la señal de estabilidad de un láser."
   ]
  },
  {
   "cell_type": "raw",
   "id": "c0756a5d",
   "metadata": {},
   "source": [
    "En este paso creamos dos funciones para poder obter los valores de la media(mean) y la varianza (var) solo teniendo encuenta \n",
    "una de estas."
   ]
  },
  {
   "cell_type": "code",
   "execution_count": 254,
   "id": "a3d098ce",
   "metadata": {},
   "outputs": [],
   "source": [
    "def distribucion_normal(data:list,var:float):\n",
    "        dist=np.random.normal(loc=np.mean(data),scale=var/len(data))\n",
    "        return dist\n",
    "def distribucion_inversa_gamma(data:list,mean:float):\n",
    "        gamma=invgamma.rvs(a=len(data)/2,scale=sum((data-mean)**2)/2) \n",
    "        return gamma"
   ]
  },
  {
   "cell_type": "raw",
   "id": "c1f3a05d",
   "metadata": {},
   "source": [
    "Aquí creamos nuestro algoritmo que itera 2000 hasta que converge y nos halle valores de media y varianza muy similares a los de nuestro datos."
   ]
  },
  {
   "cell_type": "code",
   "execution_count": 255,
   "id": "aa423bba",
   "metadata": {},
   "outputs": [],
   "source": [
    "mean=0.0\n",
    "var=0.0\n",
    "n=2000\n",
    "for i in range(n):\n",
    "    var=distribucion_inversa_gamma(y,mean)\n",
    "    mean=distribucion_normal(y,var)\n",
    "    var=np.sqrt(var)\n",
    "    "
   ]
  },
  {
   "cell_type": "code",
   "execution_count": 256,
   "id": "04bcc90f",
   "metadata": {},
   "outputs": [
    {
     "data": {
      "text/plain": [
       "(852.356229664024, 1.2680256100345145e-05)"
      ]
     },
     "execution_count": 256,
     "metadata": {},
     "output_type": "execute_result"
    }
   ],
   "source": [
    "mean,var"
   ]
  },
  {
   "cell_type": "code",
   "execution_count": 257,
   "id": "ec2e961a",
   "metadata": {},
   "outputs": [
    {
     "data": {
      "text/plain": [
       "(852.356229664024, 1.2595519202465037e-05)"
      ]
     },
     "execution_count": 257,
     "metadata": {},
     "output_type": "execute_result"
    }
   ],
   "source": [
    "np.mean(y),np.std(y)"
   ]
  },
  {
   "cell_type": "code",
   "execution_count": 264,
   "id": "89900c90",
   "metadata": {},
   "outputs": [
    {
     "data": {
      "text/plain": [
       "(array([   342.85714372,      0.        ,      0.        ,      0.        ,\n",
       "         16714.28575649,      0.        ,      0.        ,      0.        ,\n",
       "         25114.28577769,      0.        ,      0.        ,      0.        ,\n",
       "        111514.28599583,      0.        ,      0.        ,      0.        ,\n",
       "             0.        , 126514.2860337 ,      0.        ,      0.        ,\n",
       "             0.        , 104228.57169172,      0.        ,      0.        ,\n",
       "             0.        ,  37800.00009544,      0.        ,      0.        ,\n",
       "             0.        ,   6342.85715887]),\n",
       " array([852.35619   , 852.35619233, 852.35619467, 852.356197  ,\n",
       "        852.35619933, 852.35620167, 852.356204  , 852.35620633,\n",
       "        852.35620867, 852.356211  , 852.35621333, 852.35621567,\n",
       "        852.356218  , 852.35622033, 852.35622267, 852.356225  ,\n",
       "        852.35622733, 852.35622967, 852.356232  , 852.35623433,\n",
       "        852.35623667, 852.356239  , 852.35624133, 852.35624367,\n",
       "        852.356246  , 852.35624833, 852.35625067, 852.356253  ,\n",
       "        852.35625533, 852.35625767, 852.35626   ]),\n",
       " <BarContainer object of 30 artists>)"
      ]
     },
     "execution_count": 264,
     "metadata": {},
     "output_type": "execute_result"
    },
    {
     "data": {
      "image/png": "[encoded data removed]",
      "text/plain": [
       "<Figure size 432x288 with 1 Axes>"
      ]
     },
     "metadata": {
      "needs_background": "light"
     },
     "output_type": "display_data"
    }
   ],
   "source": [
    "xx = np.linspace(mean-3*var,mean+3*var,100)\n",
    "yy = norm.pdf(xx, loc=mean, scale=var)\n",
    "plt.plot(xx, yy*4,color=\"red\",label=\"Estimado\")\n",
    "plt.hist(y,color='blue',density=True,bins=30,label=\"Datos\" )"
   ]
  }
 ],
 "metadata": {
  "kernelspec": {
   "display_name": "Python 3 (ipykernel)",
   "language": "python",
   "name": "python3"
  },
  "language_info": {
   "codemirror_mode": {
    "name": "ipython",
    "version": 3
   },
   "file_extension": ".py",
   "mimetype": "text/x-python",
   "name": "python",
   "nbconvert_exporter": "python",
   "pygments_lexer": "ipython3",
   "version": "3.9.12"
  }
 },
 "nbformat": 4,
 "nbformat_minor": 5
}
